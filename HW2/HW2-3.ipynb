{
 "cells": [
  {
   "cell_type": "code",
   "execution_count": 1,
   "metadata": {},
   "outputs": [],
   "source": [
    "def h(x,y):\n",
    "    \"\"\"Hamming distance between strings x and y\"\"\"\n",
    "    return sum(a!=b for a,b in zip(x,y))"
   ]
  },
  {
   "cell_type": "code",
   "execution_count": 11,
   "metadata": {},
   "outputs": [],
   "source": [
    "from itertools import product\n",
    "def factorial(n):\n",
    "    p = 1\n",
    "    while n > 1:\n",
    "        p *=n\n",
    "        n -= 1\n",
    "    return p\n",
    "\n",
    "def c(n,r):\n",
    "    return factorial(n)/(factorial(r)*factorial(n-r))\n",
    "\n",
    "def n(k,A):\n",
    "    \"\"\"Set of all string with Hamming distance of at most k from A\"\"\"\n",
    "    all_strings = set()\n",
    "    for s in A:\n",
    "        all_strings.add(s)\n",
    "        for hdist in range(1,k+1):\n",
    "            for indices in product(range(len(s)),repeat=hdist):\n",
    "                # skip products with any duplicate indices\n",
    "                if len(set(indices)) != len(indices):\n",
    "                    continue\n",
    "#                 copy the string\n",
    "                new_str = list(s)\n",
    "#                 flip the selected indices\n",
    "                for index in  indices:\n",
    "                    new_str[index] = not new_str[index] \n",
    "                all_strings.add(tuple(new_str))\n",
    "    return all_strings"
   ]
  },
  {
   "cell_type": "code",
   "execution_count": 20,
   "metadata": {},
   "outputs": [
    {
     "data": {
      "text/plain": [
       "{(False, False, False),\n",
       " (False, False, True),\n",
       " (False, True, False),\n",
       " (True, False, False)}"
      ]
     },
     "execution_count": 20,
     "metadata": {},
     "output_type": "execute_result"
    }
   ],
   "source": [
    "n(1,{tuple(False for i in range(3))})"
   ]
  },
  {
   "cell_type": "code",
   "execution_count": null,
   "metadata": {},
   "outputs": [],
   "source": []
  }
 ],
 "metadata": {
  "kernelspec": {
   "display_name": "Python 3",
   "language": "python",
   "name": "python3"
  },
  "language_info": {
   "codemirror_mode": {
    "name": "ipython",
    "version": 3
   },
   "file_extension": ".py",
   "mimetype": "text/x-python",
   "name": "python",
   "nbconvert_exporter": "python",
   "pygments_lexer": "ipython3",
   "version": "3.5.3"
  }
 },
 "nbformat": 4,
 "nbformat_minor": 2
}
