{
 "cells": [
  {
   "cell_type": "markdown",
   "metadata": {},
   "source": [
    "    # Automata and Computability Homework 2 problem 1\n",
    "Repo: https://github.com/TheCDC/CSC413\n",
    "\n",
    "This file: https://github.com/TheCDC/CSC413/blob/master/HW2/HW2-1.ipynb"
   ]
  },
  {
   "cell_type": "markdown",
   "metadata": {},
   "source": [
    "# Implement the given NFA"
   ]
  },
  {
   "cell_type": "code",
   "execution_count": 9,
   "metadata": {},
   "outputs": [],
   "source": [
    "def delta_nfa(state, char):\n",
    "    \"\"\"Delta function for NFA in problem.\"\"\"\n",
    "    d = {\n",
    "        ('s','a'): {'s','t'},\n",
    "        ('s','b'): {'s',},\n",
    "        ('t','a'): {'u','s'},\n",
    "        ('u','a'): {'v','s'},\n",
    "    }\n",
    "    \n",
    "    return d.get((state,char), set())"
   ]
  },
  {
   "cell_type": "markdown",
   "metadata": {},
   "source": [
    "Test by eye"
   ]
  },
  {
   "cell_type": "code",
   "execution_count": 10,
   "metadata": {},
   "outputs": [
    {
     "data": {
      "text/plain": [
       "{'s', 't'}"
      ]
     },
     "execution_count": 10,
     "metadata": {},
     "output_type": "execute_result"
    }
   ],
   "source": [
    "delta_nfa('s','a')"
   ]
  },
  {
   "cell_type": "code",
   "execution_count": 11,
   "metadata": {},
   "outputs": [],
   "source": [
    "all_states = set('stuv')"
   ]
  },
  {
   "cell_type": "markdown",
   "metadata": {},
   "source": [
    "Create helper functions"
   ]
  },
  {
   "cell_type": "code",
   "execution_count": 12,
   "metadata": {},
   "outputs": [],
   "source": [
    "from itertools import chain, combinations\n",
    "def powerset(iterable):\n",
    "    \"powerset([1,2,3]) --> () (1,) (2,) (3,) (1,2) (1,3) (2,3) (1,2,3)\"\n",
    "    s = list(iterable)\n",
    "    return chain.from_iterable(combinations(s, r) for r in range(len(s)+1))"
   ]
  },
  {
   "cell_type": "markdown",
   "metadata": {},
   "source": [
    "Construct all subsets of states"
   ]
  },
  {
   "cell_type": "code",
   "execution_count": 13,
   "metadata": {},
   "outputs": [
    {
     "data": {
      "text/plain": [
       "[frozenset(),\n",
       " frozenset({'t'}),\n",
       " frozenset({'s'}),\n",
       " frozenset({'v'}),\n",
       " frozenset({'u'}),\n",
       " frozenset({'s', 't'}),\n",
       " frozenset({'t', 'v'}),\n",
       " frozenset({'t', 'u'}),\n",
       " frozenset({'s', 'v'}),\n",
       " frozenset({'s', 'u'}),\n",
       " frozenset({'u', 'v'}),\n",
       " frozenset({'s', 't', 'v'}),\n",
       " frozenset({'s', 't', 'u'}),\n",
       " frozenset({'t', 'u', 'v'}),\n",
       " frozenset({'s', 'u', 'v'}),\n",
       " frozenset({'s', 't', 'u', 'v'})]"
      ]
     },
     "execution_count": 13,
     "metadata": {},
     "output_type": "execute_result"
    }
   ],
   "source": [
    "alphabet = set('ab')\n",
    "all_subsets = [frozenset(i) for i in powerset(all_states)]\n",
    "all_subsets"
   ]
  },
  {
   "cell_type": "markdown",
   "metadata": {},
   "source": [
    "Construct all possible transitions and print\n"
   ]
  },
  {
   "cell_type": "code",
   "execution_count": 14,
   "metadata": {},
   "outputs": [
    {
     "data": {
      "text/html": [
       "<div>\n",
       "<table border=\"1\" class=\"dataframe\">\n",
       "  <thead>\n",
       "    <tr style=\"text-align: right;\">\n",
       "      <th></th>\n",
       "      <th>source</th>\n",
       "      <th>character</th>\n",
       "      <th>destination</th>\n",
       "    </tr>\n",
       "  </thead>\n",
       "  <tbody>\n",
       "    <tr>\n",
       "      <th>0</th>\n",
       "      <td>{u}</td>\n",
       "      <td>b</td>\n",
       "      <td>{}</td>\n",
       "    </tr>\n",
       "    <tr>\n",
       "      <th>1</th>\n",
       "      <td>{t, s}</td>\n",
       "      <td>b</td>\n",
       "      <td>{s}</td>\n",
       "    </tr>\n",
       "    <tr>\n",
       "      <th>2</th>\n",
       "      <td>{t, s}</td>\n",
       "      <td>a</td>\n",
       "      <td>{u, s, t}</td>\n",
       "    </tr>\n",
       "    <tr>\n",
       "      <th>3</th>\n",
       "      <td>{s}</td>\n",
       "      <td>b</td>\n",
       "      <td>{s}</td>\n",
       "    </tr>\n",
       "    <tr>\n",
       "      <th>4</th>\n",
       "      <td>{u, v}</td>\n",
       "      <td>a</td>\n",
       "      <td>{s, v}</td>\n",
       "    </tr>\n",
       "    <tr>\n",
       "      <th>5</th>\n",
       "      <td>{s}</td>\n",
       "      <td>a</td>\n",
       "      <td>{t, s}</td>\n",
       "    </tr>\n",
       "    <tr>\n",
       "      <th>6</th>\n",
       "      <td>{s, v}</td>\n",
       "      <td>a</td>\n",
       "      <td>{t, s}</td>\n",
       "    </tr>\n",
       "    <tr>\n",
       "      <th>7</th>\n",
       "      <td>{u, s}</td>\n",
       "      <td>b</td>\n",
       "      <td>{s}</td>\n",
       "    </tr>\n",
       "    <tr>\n",
       "      <th>8</th>\n",
       "      <td>{t, s, u, v}</td>\n",
       "      <td>a</td>\n",
       "      <td>{u, s, t, v}</td>\n",
       "    </tr>\n",
       "    <tr>\n",
       "      <th>9</th>\n",
       "      <td>{t, u, v}</td>\n",
       "      <td>b</td>\n",
       "      <td>{}</td>\n",
       "    </tr>\n",
       "    <tr>\n",
       "      <th>10</th>\n",
       "      <td>{u, s}</td>\n",
       "      <td>a</td>\n",
       "      <td>{t, s, v}</td>\n",
       "    </tr>\n",
       "    <tr>\n",
       "      <th>11</th>\n",
       "      <td>{u, v}</td>\n",
       "      <td>b</td>\n",
       "      <td>{}</td>\n",
       "    </tr>\n",
       "    <tr>\n",
       "      <th>12</th>\n",
       "      <td>{t, s, v}</td>\n",
       "      <td>b</td>\n",
       "      <td>{s}</td>\n",
       "    </tr>\n",
       "    <tr>\n",
       "      <th>13</th>\n",
       "      <td>{v}</td>\n",
       "      <td>b</td>\n",
       "      <td>{}</td>\n",
       "    </tr>\n",
       "    <tr>\n",
       "      <th>14</th>\n",
       "      <td>{t, u}</td>\n",
       "      <td>b</td>\n",
       "      <td>{}</td>\n",
       "    </tr>\n",
       "    <tr>\n",
       "      <th>15</th>\n",
       "      <td>{t, s, v}</td>\n",
       "      <td>a</td>\n",
       "      <td>{u, s, t}</td>\n",
       "    </tr>\n",
       "    <tr>\n",
       "      <th>16</th>\n",
       "      <td>{u}</td>\n",
       "      <td>a</td>\n",
       "      <td>{s, v}</td>\n",
       "    </tr>\n",
       "    <tr>\n",
       "      <th>17</th>\n",
       "      <td>{t, s, u}</td>\n",
       "      <td>a</td>\n",
       "      <td>{u, s, t, v}</td>\n",
       "    </tr>\n",
       "    <tr>\n",
       "      <th>18</th>\n",
       "      <td>{v}</td>\n",
       "      <td>a</td>\n",
       "      <td>{}</td>\n",
       "    </tr>\n",
       "    <tr>\n",
       "      <th>19</th>\n",
       "      <td>{t, s, u}</td>\n",
       "      <td>b</td>\n",
       "      <td>{s}</td>\n",
       "    </tr>\n",
       "    <tr>\n",
       "      <th>20</th>\n",
       "      <td>{t, v}</td>\n",
       "      <td>b</td>\n",
       "      <td>{}</td>\n",
       "    </tr>\n",
       "    <tr>\n",
       "      <th>21</th>\n",
       "      <td>{u, s, v}</td>\n",
       "      <td>b</td>\n",
       "      <td>{s}</td>\n",
       "    </tr>\n",
       "    <tr>\n",
       "      <th>22</th>\n",
       "      <td>{t, u}</td>\n",
       "      <td>a</td>\n",
       "      <td>{u, s, v}</td>\n",
       "    </tr>\n",
       "    <tr>\n",
       "      <th>23</th>\n",
       "      <td>{t, s, u, v}</td>\n",
       "      <td>b</td>\n",
       "      <td>{s}</td>\n",
       "    </tr>\n",
       "    <tr>\n",
       "      <th>24</th>\n",
       "      <td>{t, v}</td>\n",
       "      <td>a</td>\n",
       "      <td>{u, s}</td>\n",
       "    </tr>\n",
       "    <tr>\n",
       "      <th>25</th>\n",
       "      <td>{u, s, v}</td>\n",
       "      <td>a</td>\n",
       "      <td>{t, s, v}</td>\n",
       "    </tr>\n",
       "    <tr>\n",
       "      <th>26</th>\n",
       "      <td>{t}</td>\n",
       "      <td>a</td>\n",
       "      <td>{u, s}</td>\n",
       "    </tr>\n",
       "    <tr>\n",
       "      <th>27</th>\n",
       "      <td>{s, v}</td>\n",
       "      <td>b</td>\n",
       "      <td>{s}</td>\n",
       "    </tr>\n",
       "    <tr>\n",
       "      <th>28</th>\n",
       "      <td>{t}</td>\n",
       "      <td>b</td>\n",
       "      <td>{}</td>\n",
       "    </tr>\n",
       "    <tr>\n",
       "      <th>29</th>\n",
       "      <td>{t, u, v}</td>\n",
       "      <td>a</td>\n",
       "      <td>{u, s, v}</td>\n",
       "    </tr>\n",
       "  </tbody>\n",
       "</table>\n",
       "</div>"
      ],
      "text/plain": [
       "          source character   destination\n",
       "0            {u}         b            {}\n",
       "1         {t, s}         b           {s}\n",
       "2         {t, s}         a     {u, s, t}\n",
       "3            {s}         b           {s}\n",
       "4         {u, v}         a        {s, v}\n",
       "5            {s}         a        {t, s}\n",
       "6         {s, v}         a        {t, s}\n",
       "7         {u, s}         b           {s}\n",
       "8   {t, s, u, v}         a  {u, s, t, v}\n",
       "9      {t, u, v}         b            {}\n",
       "10        {u, s}         a     {t, s, v}\n",
       "11        {u, v}         b            {}\n",
       "12     {t, s, v}         b           {s}\n",
       "13           {v}         b            {}\n",
       "14        {t, u}         b            {}\n",
       "15     {t, s, v}         a     {u, s, t}\n",
       "16           {u}         a        {s, v}\n",
       "17     {t, s, u}         a  {u, s, t, v}\n",
       "18           {v}         a            {}\n",
       "19     {t, s, u}         b           {s}\n",
       "20        {t, v}         b            {}\n",
       "21     {u, s, v}         b           {s}\n",
       "22        {t, u}         a     {u, s, v}\n",
       "23  {t, s, u, v}         b           {s}\n",
       "24        {t, v}         a        {u, s}\n",
       "25     {u, s, v}         a     {t, s, v}\n",
       "26           {t}         a        {u, s}\n",
       "27        {s, v}         b           {s}\n",
       "28           {t}         b            {}\n",
       "29     {t, u, v}         a     {u, s, v}"
      ]
     },
     "execution_count": 14,
     "metadata": {},
     "output_type": "execute_result"
    }
   ],
   "source": [
    "import pandas as pd\n",
    "intermediate_mapping = dict()\n",
    "# loop over subsets\n",
    "for subset in all_subsets:\n",
    "#     loop over alphabet\n",
    "    for char in alphabet:    \n",
    "        next_state = set()\n",
    "#         find destinations from all states\n",
    "        for state in subset:\n",
    "            ss = delta_nfa(state, char)\n",
    "            next_state.update(ss)\n",
    "            intermediate_mapping.update({(subset,char):frozenset(next_state)})\n",
    "\n",
    "# hack to make formatting nice\n",
    "things = [{'source':set(i[0][0]),'character':i[0][1],'destination':set(i[1])} for i in intermediate_mapping.items()]\n",
    "df = pd.DataFrame(things)\n",
    "df[['source','character','destination']]"
   ]
  },
  {
   "cell_type": "markdown",
   "metadata": {},
   "source": [
    "# Prune states that can never be reached\n",
    "\n",
    "Some sets of states form 'islands' that can never be reached from any start state. These are superfluous and can be pruned to produce a more sensible DFA."
   ]
  },
  {
   "cell_type": "code",
   "execution_count": 15,
   "metadata": {},
   "outputs": [
    {
     "name": "stdout",
     "output_type": "stream",
     "text": [
      "saw frozenset({'s'})\n",
      "saw frozenset({'t', 's'})\n",
      "saw frozenset({'u', 's', 't'})\n",
      "saw frozenset({'t', 's', 'u', 'v'})\n",
      "Deleting all other states...\n"
     ]
    }
   ],
   "source": [
    "# perform graph traversal to prune inaccessible states\n",
    "start_state = 's'\n",
    "# remember which states have been traversed\n",
    "seen_states = set()\n",
    "# perform traversal iteratively using a stack\n",
    "states_stack = [{'s'}]\n",
    "while len(states_stack) > 0:\n",
    "#     pop off a node\n",
    "    state = frozenset(states_stack.pop())\n",
    "    seen_states.add(state)\n",
    "    print('saw',state)\n",
    "#     construct the set of children of this node using the delta function\n",
    "    for char in alphabet:\n",
    "        ns = set()\n",
    "        for substate in state:\n",
    "            child = delta_nfa(substate, char)\n",
    "            ns.update(child)\n",
    "        if ns not in seen_states:\n",
    "            states_stack.append(ns)\n",
    "# delete all ((state,char)=> states) pairs from the mapping\n",
    "# where the state was not traversed\n",
    "print(\"Deleting all other states...\")\n",
    "pruned_mapping=dict(intermediate_mapping)\n",
    "for key in list(pruned_mapping.keys()):\n",
    "    if key[0] not in seen_states :\n",
    "#         print('delete inaccessible state',set(key),'=>',set(pruned_mapping[key]))\n",
    "        del pruned_mapping[key]"
   ]
  },
  {
   "cell_type": "code",
   "execution_count": 16,
   "metadata": {
    "scrolled": true
   },
   "outputs": [
    {
     "data": {
      "text/html": [
       "<div>\n",
       "<table border=\"1\" class=\"dataframe\">\n",
       "  <thead>\n",
       "    <tr style=\"text-align: right;\">\n",
       "      <th></th>\n",
       "      <th>source</th>\n",
       "      <th>character</th>\n",
       "      <th>destination</th>\n",
       "    </tr>\n",
       "  </thead>\n",
       "  <tbody>\n",
       "    <tr>\n",
       "      <th>0</th>\n",
       "      <td>{t, s}</td>\n",
       "      <td>b</td>\n",
       "      <td>{s}</td>\n",
       "    </tr>\n",
       "    <tr>\n",
       "      <th>1</th>\n",
       "      <td>{t, s}</td>\n",
       "      <td>a</td>\n",
       "      <td>{u, s, t}</td>\n",
       "    </tr>\n",
       "    <tr>\n",
       "      <th>2</th>\n",
       "      <td>{s}</td>\n",
       "      <td>b</td>\n",
       "      <td>{s}</td>\n",
       "    </tr>\n",
       "    <tr>\n",
       "      <th>3</th>\n",
       "      <td>{s}</td>\n",
       "      <td>a</td>\n",
       "      <td>{t, s}</td>\n",
       "    </tr>\n",
       "    <tr>\n",
       "      <th>4</th>\n",
       "      <td>{t, s, u, v}</td>\n",
       "      <td>a</td>\n",
       "      <td>{u, s, t, v}</td>\n",
       "    </tr>\n",
       "    <tr>\n",
       "      <th>5</th>\n",
       "      <td>{t, s, u}</td>\n",
       "      <td>a</td>\n",
       "      <td>{u, s, t, v}</td>\n",
       "    </tr>\n",
       "    <tr>\n",
       "      <th>6</th>\n",
       "      <td>{t, s, u}</td>\n",
       "      <td>b</td>\n",
       "      <td>{s}</td>\n",
       "    </tr>\n",
       "    <tr>\n",
       "      <th>7</th>\n",
       "      <td>{t, s, u, v}</td>\n",
       "      <td>b</td>\n",
       "      <td>{s}</td>\n",
       "    </tr>\n",
       "  </tbody>\n",
       "</table>\n",
       "</div>"
      ],
      "text/plain": [
       "         source character   destination\n",
       "0        {t, s}         b           {s}\n",
       "1        {t, s}         a     {u, s, t}\n",
       "2           {s}         b           {s}\n",
       "3           {s}         a        {t, s}\n",
       "4  {t, s, u, v}         a  {u, s, t, v}\n",
       "5     {t, s, u}         a  {u, s, t, v}\n",
       "6     {t, s, u}         b           {s}\n",
       "7  {t, s, u, v}         b           {s}"
      ]
     },
     "execution_count": 16,
     "metadata": {},
     "output_type": "execute_result"
    }
   ],
   "source": [
    "things = [{'source':set(i[0][0]),'character':i[0][1],'destination':set(i[1])} for i in pruned_mapping.items()]\n",
    "df = pd.DataFrame(things)\n",
    "df[['source','character','destination']]"
   ]
  },
  {
   "cell_type": "code",
   "execution_count": null,
   "metadata": {},
   "outputs": [],
   "source": []
  }
 ],
 "metadata": {
  "kernelspec": {
   "display_name": "Python 3",
   "language": "python",
   "name": "python3"
  },
  "language_info": {
   "codemirror_mode": {
    "name": "ipython",
    "version": 3
   },
   "file_extension": ".py",
   "mimetype": "text/x-python",
   "name": "python",
   "nbconvert_exporter": "python",
   "pygments_lexer": "ipython3",
   "version": "3.5.3"
  }
 },
 "nbformat": 4,
 "nbformat_minor": 2
}
