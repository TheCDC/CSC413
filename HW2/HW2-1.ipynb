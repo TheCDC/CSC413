{
 "cells": [
  {
   "cell_type": "markdown",
   "metadata": {},
   "source": [
    "# Implement the given NFA"
   ]
  },
  {
   "cell_type": "code",
   "execution_count": 2,
   "metadata": {},
   "outputs": [],
   "source": [
    "def delta_nfa(state, char):\n",
    "    d = {\n",
    "        ('s','a'): {'s','t'},\n",
    "        ('s','b'): {'s',},\n",
    "        ('t','a'): {'u','s'},\n",
    "        ('u','a'): {'v','s'},\n",
    "    }\n",
    "    \n",
    "    return d.get((state,char), set())\n",
    "    "
   ]
  },
  {
   "cell_type": "markdown",
   "metadata": {},
   "source": [
    "Test by eye"
   ]
  },
  {
   "cell_type": "code",
   "execution_count": 3,
   "metadata": {},
   "outputs": [
    {
     "data": {
      "text/plain": [
       "{'s', 't'}"
      ]
     },
     "execution_count": 3,
     "metadata": {},
     "output_type": "execute_result"
    }
   ],
   "source": [
    "delta_nfa('s','a')"
   ]
  },
  {
   "cell_type": "code",
   "execution_count": 3,
   "metadata": {},
   "outputs": [],
   "source": [
    "all_states = set('stuv')"
   ]
  },
  {
   "cell_type": "code",
   "execution_count": null,
   "metadata": {},
   "outputs": [],
   "source": []
  },
  {
   "cell_type": "code",
   "execution_count": 4,
   "metadata": {},
   "outputs": [],
   "source": [
    "from itertools import chain, combinations\n",
    "def powerset(iterable):\n",
    "    \"powerset([1,2,3]) --> () (1,) (2,) (3,) (1,2) (1,3) (2,3) (1,2,3)\"\n",
    "    s = list(iterable)\n",
    "    return chain.from_iterable(combinations(s, r) for r in range(len(s)+1))"
   ]
  },
  {
   "cell_type": "code",
   "execution_count": 5,
   "metadata": {},
   "outputs": [
    {
     "data": {
      "text/plain": [
       "[frozenset(),\n",
       " frozenset({'v'}),\n",
       " frozenset({'t'}),\n",
       " frozenset({'u'}),\n",
       " frozenset({'s'}),\n",
       " frozenset({'t', 'v'}),\n",
       " frozenset({'u', 'v'}),\n",
       " frozenset({'s', 'v'}),\n",
       " frozenset({'t', 'u'}),\n",
       " frozenset({'s', 't'}),\n",
       " frozenset({'s', 'u'}),\n",
       " frozenset({'t', 'u', 'v'}),\n",
       " frozenset({'s', 't', 'v'}),\n",
       " frozenset({'s', 'u', 'v'}),\n",
       " frozenset({'s', 't', 'u'}),\n",
       " frozenset({'s', 't', 'u', 'v'})]"
      ]
     },
     "execution_count": 5,
     "metadata": {},
     "output_type": "execute_result"
    }
   ],
   "source": [
    "# construct all subsets of states\n",
    "alphabet = set('ab')\n",
    "all_subsets = [frozenset(i) for i in powerset(all_states)]\n",
    "all_subsets"
   ]
  },
  {
   "cell_type": "code",
   "execution_count": 6,
   "metadata": {},
   "outputs": [
    {
     "data": {
      "text/plain": [
       "{(frozenset({'v'}), 'b'): frozenset(),\n",
       " (frozenset({'t', 'v'}), 'b'): frozenset(),\n",
       " (frozenset({'u'}), 'a'): frozenset({'s', 'v'}),\n",
       " (frozenset({'u'}), 'b'): frozenset(),\n",
       " (frozenset({'s', 'u'}), 'a'): frozenset({'s', 't', 'v'}),\n",
       " (frozenset({'v'}), 'a'): frozenset(),\n",
       " (frozenset({'u', 'v'}), 'a'): frozenset({'s', 'v'}),\n",
       " (frozenset({'t'}), 'a'): frozenset({'s', 'u'}),\n",
       " (frozenset({'t'}), 'b'): frozenset(),\n",
       " (frozenset({'t', 'u'}), 'a'): frozenset({'s', 'u', 'v'}),\n",
       " (frozenset({'t', 'u'}), 'b'): frozenset(),\n",
       " (frozenset({'s'}), 'a'): frozenset({'s', 't'}),\n",
       " (frozenset({'s', 'u'}), 'b'): frozenset({'s'}),\n",
       " (frozenset({'s', 't'}), 'a'): frozenset({'s', 't', 'u'}),\n",
       " (frozenset({'s', 't', 'u'}), 'a'): frozenset({'s', 't', 'u', 'v'}),\n",
       " (frozenset({'s', 't', 'u'}), 'b'): frozenset({'s'}),\n",
       " (frozenset({'s', 't', 'v'}), 'a'): frozenset({'s', 't', 'u'}),\n",
       " (frozenset({'t', 'u', 'v'}), 'b'): frozenset(),\n",
       " (frozenset({'s'}), 'b'): frozenset({'s'}),\n",
       " (frozenset({'s', 'v'}), 'b'): frozenset({'s'}),\n",
       " (frozenset({'u', 'v'}), 'b'): frozenset(),\n",
       " (frozenset({'s', 'v'}), 'a'): frozenset({'s', 't'}),\n",
       " (frozenset({'s', 'u', 'v'}), 'a'): frozenset({'s', 't', 'v'}),\n",
       " (frozenset({'s', 'u', 'v'}), 'b'): frozenset({'s'}),\n",
       " (frozenset({'s', 't'}), 'b'): frozenset({'s'}),\n",
       " (frozenset({'t', 'v'}), 'a'): frozenset({'s', 'u'}),\n",
       " (frozenset({'s', 't', 'v'}), 'b'): frozenset({'s'}),\n",
       " (frozenset({'t', 'u', 'v'}), 'a'): frozenset({'s', 'u', 'v'}),\n",
       " (frozenset({'s', 't', 'u', 'v'}), 'a'): frozenset({'s', 't', 'u', 'v'}),\n",
       " (frozenset({'s', 't', 'u', 'v'}), 'b'): frozenset({'s'})}"
      ]
     },
     "execution_count": 6,
     "metadata": {},
     "output_type": "execute_result"
    }
   ],
   "source": [
    "# construct all possible transitions\n",
    "\n",
    "intermediate_mapping = dict()\n",
    "for subset in all_subsets:\n",
    "    for char in alphabet:    \n",
    "        next_state = set()\n",
    "        for state in subset:\n",
    "            ss = delta_nfa(state, char)\n",
    "#             print(subset,state,char,ss)\n",
    "            next_state.update(ss)\n",
    "#             print(state,char,ss)\n",
    "            intermediate_mapping.update({(subset,char):frozenset(next_state)})\n",
    "intermediate_mapping"
   ]
  },
  {
   "cell_type": "code",
   "execution_count": 7,
   "metadata": {},
   "outputs": [
    {
     "name": "stdout",
     "output_type": "stream",
     "text": [
      "saw frozenset({'s'})\n",
      "saw frozenset({'t', 's'})\n",
      "saw frozenset({'t', 'u', 's'})\n",
      "saw frozenset({'v', 't', 'u', 's'})\n",
      "delete inaccessible state {'b', frozenset({'v', 't'})} => set()\n",
      "delete inaccessible state {'b', frozenset({'v'})} => set()\n",
      "delete inaccessible state {'a', frozenset({'u', 's'})} => {'v', 't', 's'}\n",
      "delete inaccessible state {frozenset({'v', 'u'}), 'a'} => {'v', 's'}\n",
      "delete inaccessible state {'b', frozenset({'t', 'u'})} => set()\n",
      "delete inaccessible state {'b', frozenset({'u'})} => set()\n",
      "delete inaccessible state {'a', frozenset({'t', 'u'})} => {'v', 'u', 's'}\n",
      "delete inaccessible state {'a', frozenset({'v'})} => set()\n",
      "delete inaccessible state {'b', frozenset({'u', 's'})} => {'s'}\n",
      "delete inaccessible state {frozenset({'u'}), 'a'} => {'v', 's'}\n",
      "delete inaccessible state {'a', frozenset({'v', 't', 's'})} => {'t', 'u', 's'}\n",
      "delete inaccessible state {'b', frozenset({'v', 't', 'u'})} => set()\n",
      "delete inaccessible state {'b', frozenset({'v', 'u', 's'})} => {'s'}\n",
      "delete inaccessible state {'a', frozenset({'t'})} => {'u', 's'}\n",
      "delete inaccessible state {'b', frozenset({'v', 't', 's'})} => {'s'}\n",
      "delete inaccessible state {frozenset({'v', 't', 'u'}), 'a'} => {'v', 'u', 's'}\n",
      "delete inaccessible state {'a', frozenset({'v', 'u', 's'})} => {'v', 't', 's'}\n",
      "delete inaccessible state {'b', frozenset({'t'})} => set()\n",
      "delete inaccessible state {'a', frozenset({'v', 't'})} => {'u', 's'}\n",
      "delete inaccessible state {'b', frozenset({'v', 's'})} => {'s'}\n",
      "delete inaccessible state {'b', frozenset({'v', 'u'})} => set()\n",
      "delete inaccessible state {'a', frozenset({'v', 's'})} => {'t', 's'}\n"
     ]
    }
   ],
   "source": [
    "# perform graph traversal to prune inaccessible states\n",
    "start_state = 's'\n",
    "# remember which states have been traversed\n",
    "seen_states = set()\n",
    "# perform traversal iteratively using a stack\n",
    "states_stack = [{'s'}]\n",
    "while len(states_stack) > 0:\n",
    "#     pop off a node\n",
    "    state = frozenset(states_stack.pop())\n",
    "    seen_states.add(state)\n",
    "    print('saw',state)\n",
    "#     construct the set of children of this node using the delta function\n",
    "    for char in alphabet:\n",
    "        ns = set()\n",
    "        for substate in state:\n",
    "            child = delta_nfa(substate, char)\n",
    "            ns.update(child)\n",
    "        if ns not in seen_states:\n",
    "            states_stack.append(ns)\n",
    "# delete all ((state,char)=> states) pairs from the mapping\n",
    "# where the state was not traversed\n",
    "for key in list(intermediate_mapping.keys()):\n",
    "    if key[0] not in seen_states :\n",
    "        print('delete inaccessible state',set(key),'=>',set(intermediate_mapping[key]))\n",
    "        del intermediate_mapping[key]"
   ]
  },
  {
   "cell_type": "code",
   "execution_count": 8,
   "metadata": {
    "scrolled": true
   },
   "outputs": [
    {
     "name": "stdout",
     "output_type": "stream",
     "text": [
      "delta({'t', 'u', 's'}, 'b') = {'s'}\n",
      "delta({'t', 'u', 's'}, 'a') = {'v', 't', 'u', 's'}\n",
      "delta({'v', 't', 'u', 's'}, 'a') = {'v', 't', 'u', 's'}\n",
      "delta({'s'}, 'b') = {'s'}\n",
      "delta({'t', 's'}, 'b') = {'s'}\n",
      "delta({'s'}, 'a') = {'t', 's'}\n",
      "delta({'v', 't', 'u', 's'}, 'b') = {'s'}\n",
      "delta({'t', 's'}, 'a') = {'t', 'u', 's'}\n"
     ]
    }
   ],
   "source": [
    "for i in intermediate_mapping.items():\n",
    "    print(\"delta({}, '{}') = {}\".format(set(i[0][0]),i[0][1],set(i[1])))"
   ]
  }
 ],
 "metadata": {
  "kernelspec": {
   "display_name": "Python 3",
   "language": "python",
   "name": "python3"
  },
  "language_info": {
   "codemirror_mode": {
    "name": "ipython",
    "version": 3
   },
   "file_extension": ".py",
   "mimetype": "text/x-python",
   "name": "python",
   "nbconvert_exporter": "python",
   "pygments_lexer": "ipython3",
   "version": "3.5.3"
  }
 },
 "nbformat": 4,
 "nbformat_minor": 2
}
